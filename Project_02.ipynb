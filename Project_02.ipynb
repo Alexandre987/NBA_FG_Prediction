{
 "cells": [
  {
   "cell_type": "markdown",
   "metadata": {},
   "source": [
    "### Dependent variable:\n",
    "\n",
    "FG%\n",
    "\n",
    "### Independent variables:\n",
    "\n",
    "Your team:\n",
    "\n",
    "- FGM/FGA\n",
    "- FT%\n",
    "- PTS\n",
    "- 3PT %\n",
    "\n",
    "Opposing team:\n",
    "- FGM/FGA\n",
    "- PTS\n",
    "\n",
    "\n",
    "Other variables:\n",
    "\n",
    "- Minutes Played (Reg, OT, 2OT, 3OT)\n",
    "- **Temperature in Boston on that day**\n",
    "- **Unemployment rate in Boston (or US)**\n",
    "\n",
    "\n",
    "### Be mindful of:\n",
    "\n",
    "Styles of basketball change over time - whatever dependent variable I have should be minimally confounded by these other variables like changing game style (pushing towards the 3 pt line, or towards faster pace, for example)"
   ]
  },
  {
   "cell_type": "code",
   "execution_count": null,
   "metadata": {},
   "outputs": [],
   "source": []
  }
 ],
 "metadata": {
  "kernelspec": {
   "display_name": "Python 3",
   "language": "python",
   "name": "python3"
  },
  "language_info": {
   "codemirror_mode": {
    "name": "ipython",
    "version": 3
   },
   "file_extension": ".py",
   "mimetype": "text/x-python",
   "name": "python",
   "nbconvert_exporter": "python",
   "pygments_lexer": "ipython3",
   "version": "3.7.2"
  }
 },
 "nbformat": 4,
 "nbformat_minor": 2
}
